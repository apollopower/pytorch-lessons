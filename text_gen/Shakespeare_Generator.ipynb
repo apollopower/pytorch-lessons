{
 "cells": [
  {
   "cell_type": "markdown",
   "metadata": {},
   "source": [
    "## Prepare Data"
   ]
  },
  {
   "cell_type": "markdown",
   "metadata": {},
   "source": [
    "We are using a plain text file containing Shakespeare's plays. We turn any potential unicode characters into plain ASCII by using the **unidecode package**"
   ]
  },
  {
   "cell_type": "code",
   "execution_count": 29,
   "metadata": {},
   "outputs": [
    {
     "name": "stdout",
     "output_type": "stream",
     "text": [
      "file_len =  1115394\n"
     ]
    }
   ],
   "source": [
    "import unidecode\n",
    "import string\n",
    "import random\n",
    "import re\n",
    "\n",
    "all_characters = string.printable\n",
    "n_characters = len(all_characters)\n",
    "\n",
    "file = unidecode.unidecode(open('./shakespeare.txt').read())\n",
    "file_len = len(file)\n",
    "print('file_len = ', file_len)"
   ]
  },
  {
   "cell_type": "markdown",
   "metadata": {},
   "source": [
    "To make inputs out of the string of data, we will be splitting it into chunks:"
   ]
  },
  {
   "cell_type": "code",
   "execution_count": 30,
   "metadata": {},
   "outputs": [
    {
     "name": "stdout",
     "output_type": "stream",
     "text": [
      " perhaps he doth:\n",
      "'Tis but his policy to counterfeit,\n",
      "Because he would avoid such bitter taunts\n",
      "Which in the time of death he gave our father.\n",
      "\n",
      "GEORGE:\n",
      "If so thou think'st, vex him with eager words.\n",
      "\n",
      "R\n"
     ]
    }
   ],
   "source": [
    "chunk_len = 200\n",
    "\n",
    "def random_chunk():\n",
    "    start_index = random.randint(0, file_len - chunk_len)\n",
    "    end_index = start_index + chunk_len + 1\n",
    "    return file[start_index:end_index]\n",
    "\n",
    "print(random_chunk())"
   ]
  },
  {
   "cell_type": "markdown",
   "metadata": {},
   "source": [
    "## Build the Model"
   ]
  },
  {
   "attachments": {},
   "cell_type": "markdown",
   "metadata": {},
   "source": [
    "This model will take as input the character for step $t_{-1}$ and is expected to output the next character. There are three layers:\n",
    "- One linear layer that encodes the input characater into an internal state\n",
    "- One GRU layer (which may itself have multiple layers) that operates on the internal state and a hidden state\n",
    "- One decoder layer that outputs the probability distribution"
   ]
  },
  {
   "cell_type": "code",
   "execution_count": 31,
   "metadata": {},
   "outputs": [],
   "source": [
    "import torch\n",
    "import torch.nn as nn\n",
    "from torch.autograd import Variable\n",
    "\n",
    "class RNN(nn.Module):\n",
    "    def __init__(self, input_size, hidden_size, output_size, n_layers=1):\n",
    "        super(RNN, self).__init__()\n",
    "        self.input_size = input_size\n",
    "        self.hidden_size = hidden_size\n",
    "        self.output_size = output_size\n",
    "        self.n_layers = n_layers\n",
    "        \n",
    "        self.encoder = nn.Embedding(input_size, hidden_size)\n",
    "        self.gru = nn.GRU(hidden_size, hidden_size, n_layers)\n",
    "        self.decoder = nn.Linear(hidden_size, output_size)\n",
    "    \n",
    "    def forward(self, input, hidden):\n",
    "        input = self.encoder(input.view(1, -1))\n",
    "        output, hidden = self.gru(input.view(1, 1, -1), hidden)\n",
    "        output = self.decoder(output.view(1, -1))\n",
    "        return output, hidden\n",
    "\n",
    "    def init_hidden(self):\n",
    "        return (torch.zeros(self.n_layers, 1, self.hidden_size))"
   ]
  },
  {
   "cell_type": "markdown",
   "metadata": {},
   "source": [
    "## Inputs and Targets"
   ]
  },
  {
   "cell_type": "markdown",
   "metadata": {},
   "source": [
    "Each chunk will be turned into a tensor, specifically a LongTensor (used for integer values), by looping through the characters of the string and looking up the index of each character in *all_characters*."
   ]
  },
  {
   "cell_type": "code",
   "execution_count": 32,
   "metadata": {},
   "outputs": [
    {
     "name": "stdout",
     "output_type": "stream",
     "text": [
      "tensor([ 10,  11,  12,  39,  40,  41])\n"
     ]
    }
   ],
   "source": [
    "# Turn string into list of longs\n",
    "def char_tensor(string):\n",
    "    tensor = torch.zeros(len(string)).long()\n",
    "    for c in range(len(string)):\n",
    "        tensor[c] = all_characters.index(string[c])\n",
    "    return (tensor)\n",
    "\n",
    "print(char_tensor('abcDEF'))"
   ]
  },
  {
   "cell_type": "markdown",
   "metadata": {},
   "source": [
    "Finally we can assemble a pair of input and target tensors for training, from a random chunk. The input will be all characters up to the last, and the target will be all characters *from the first*."
   ]
  },
  {
   "cell_type": "code",
   "execution_count": 33,
   "metadata": {},
   "outputs": [],
   "source": [
    "def random_training_set():    \n",
    "    chunk = random_chunk()\n",
    "    inp = char_tensor(chunk[:-1])\n",
    "    target = char_tensor(chunk[1:])\n",
    "    return inp, target"
   ]
  },
  {
   "cell_type": "markdown",
   "metadata": {},
   "source": [
    "## Evaluating"
   ]
  },
  {
   "cell_type": "markdown",
   "metadata": {},
   "source": [
    "To evaluate the network we will feed one character at a time,  use the outputs of the network as a probability distribution for the next character, and repeat. To start generation we pass a priming string to start building up the hidden state, from which we then generate one character a time."
   ]
  },
  {
   "cell_type": "code",
   "execution_count": 34,
   "metadata": {},
   "outputs": [],
   "source": [
    "def evaluate(prime_str='A', predict_len=100, temperature=0.8):\n",
    "    hidden = decoder.init_hidden()\n",
    "    prime_input = char_tensor(prime_str)\n",
    "    predicted = prime_str\n",
    "    \n",
    "    # Use priming string to \"build up\" hidden state\n",
    "    for p in range(len(prime_str) - 1):\n",
    "        _, hidden = decoder(prime_input[p], hidden)\n",
    "        inp = prime_input[-1]\n",
    "        \n",
    "    inp = prime_input[-1]\n",
    "    \n",
    "    for p in range(predict_len):\n",
    "        output, hidden = decoder(inp, hidden)\n",
    "        \n",
    "        # Sample from the network as a multinomial distribution\n",
    "        output_dist = output.data.view(-1).div(temperature).exp()\n",
    "        top_i = torch.multinomial(output_dist, 1)[0]\n",
    "        \n",
    "        # Add predicted character to string and use as next input\n",
    "        predicted_char = all_characters[top_i]\n",
    "        predicted += predicted_char\n",
    "        inp = char_tensor(predicted_char)\n",
    "        \n",
    "    return predicted"
   ]
  },
  {
   "cell_type": "markdown",
   "metadata": {},
   "source": [
    "## Training"
   ]
  },
  {
   "cell_type": "markdown",
   "metadata": {},
   "source": [
    "First lets define a helper function to print the amount of time passed:"
   ]
  },
  {
   "cell_type": "code",
   "execution_count": 35,
   "metadata": {},
   "outputs": [],
   "source": [
    "import time, math\n",
    "\n",
    "def time_since(since):\n",
    "    s = time.time() - since\n",
    "    m = math.floor(s / 60)\n",
    "    s -= m * 60\n",
    "    return '%dm %ds' % (m, s)"
   ]
  },
  {
   "cell_type": "markdown",
   "metadata": {},
   "source": [
    "Now for the main training function:"
   ]
  },
  {
   "cell_type": "code",
   "execution_count": 38,
   "metadata": {},
   "outputs": [],
   "source": [
    "def train(inp, target):\n",
    "    hidden = decoder.init_hidden()\n",
    "    decoder.zero_grad()\n",
    "    loss = 0\n",
    "\n",
    "    for c in range(chunk_len):\n",
    "        output, hidden = decoder(inp[c], hidden)\n",
    "        loss += criterion(output, target[c].unsqueeze(0))\n",
    "\n",
    "    loss.backward()\n",
    "    decoder_optimizer.step()\n",
    "\n",
    "    return loss.data.item() / chunk_len"
   ]
  },
  {
   "cell_type": "markdown",
   "metadata": {},
   "source": [
    "We define the training parameters, instantiate the model, and start training:"
   ]
  },
  {
   "cell_type": "code",
   "execution_count": 39,
   "metadata": {},
   "outputs": [
    {
     "name": "stdout",
     "output_type": "stream",
     "text": [
      "[0m 10s (100 5%) 2.2530]\n",
      "Wha1 my ming that feor to cearcin a ve thouk of sthe art to the fasiest ceall cathes thuche at and the \n",
      "\n",
      "[0m 20s (200 10%) 2.0896]\n",
      "Whrears, an bus the be beld hall by beginst and at businge Rlefers, hoch aus petrer foram thee that de \n",
      "\n",
      "[0m 30s (300 15%) 2.2118]\n",
      "Wharl I sve thould sele, your.\n",
      "\n",
      "PUTINCENTI:\n",
      "What grigh, srevitk hosses ther our.\n",
      "\n",
      "PORKINIUCHUK: a tern \n",
      "\n",
      "[0m 40s (400 20%) 2.2320]\n",
      "Whatadu soulick so and fore to dight your inined the hat wine Edy Marmit, and thist doo of my doth bea \n",
      "\n",
      "[0m 51s (500 25%) 2.2887]\n",
      "Whausinot, I tone and breat\n",
      "That the play, and sare\n",
      "And the riese the his seelles\n",
      "'OLAD:\n",
      "What, wanch\n",
      "A \n",
      "\n",
      "[1m 1s (600 30%) 2.0555]\n",
      "Why home marse the his steing\n",
      "Coul my hos reche wich shoursprent dos, but you\n",
      "thous in whom hath that  \n",
      "\n",
      "[1m 11s (700 35%) 1.7728]\n",
      "Whor mond at brothers all be,\n",
      "To dearpoll ams, and thind him hast granting of his foll int cuch\n",
      "And sh \n",
      "\n",
      "[1m 21s (800 40%) 1.8857]\n",
      "Which a night at there crance they in no lequesal.\n",
      "\n",
      "Now, be\n",
      "with his in the for to cill,\n",
      "Wold lover is \n",
      "\n",
      "[1m 31s (900 45%) 1.9575]\n",
      "When a jody\n",
      "How so, I happy my Jull natuon they or son thus prife!\n",
      "\n",
      "EDWARD II:\n",
      "My aslee, ours in ofoo  \n",
      "\n",
      "[1m 41s (1000 50%) 1.9674]\n",
      "Where one the anwiver herpan bears and that beill thereins\n",
      "I were with not mornchand! no, her decirene \n",
      "\n",
      "[1m 51s (1100 55%) 1.8512]\n",
      "Whoth, Pecing bray.\n",
      "\n",
      "KING RICHARD III:\n",
      "Why lights sighas thought\n",
      "The were to that thas will love.\n",
      "\n",
      "KIN \n",
      "\n",
      "[2m 1s (1200 60%) 1.8297]\n",
      "Why dreelds commal\n",
      "Merce the coon the earts.\n",
      "\n",
      "ARIA:\n",
      "Burm with this comes,\n",
      "Were to thou them up comes\n",
      "B \n",
      "\n",
      "[2m 11s (1300 65%) 1.6702]\n",
      "Wherse of witle, son be may too, and mys his him.\n",
      "\n",
      "JULIESTS:\n",
      "But to that winther, and sight thou happy \n",
      "\n",
      "[2m 20s (1400 70%) 1.7464]\n",
      "Whring their and and the musberer have?\n",
      "\n",
      "TRANCIO:\n",
      "Thou down in me sir:\n",
      "The underured the kind of shell \n",
      "\n",
      "[2m 31s (1500 75%) 1.6915]\n",
      "Where\n",
      "\n",
      "CAPlooke it in friend grance them and ambure weares of my raves, sing for Panit upon.\n",
      "\n",
      "CAPETRUC \n",
      "\n",
      "[2m 41s (1600 80%) 2.1094]\n",
      "What stars go, malks of have my came of this being to that is be good the day.\n",
      "\n",
      "BAPULET:\n",
      "For good worl \n",
      "\n",
      "[2m 51s (1700 85%) 1.5631]\n",
      "Whihth know moy,\n",
      "And sefut in them my worn'd of make sen me.\n",
      "The wan it you joot all my was more, then \n",
      "\n",
      "[3m 1s (1800 90%) 1.5530]\n",
      "Whorry with the rescless grove her reveriess, the sit ost there no more no nather.\n",
      "\n",
      "YORK:\n",
      "Honatess his \n",
      "\n",
      "[3m 11s (1900 95%) 2.3024]\n",
      "Whor come.\n",
      "And proon he day anaces the voicest their from throng thene daim they be ubery,\n",
      "As your ref \n",
      "\n",
      "[3m 21s (2000 100%) 1.6298]\n",
      "Wharge he grain the she refencast;\n",
      "And here bricity livif death, why it thee but is feep to dobla; the \n",
      "\n"
     ]
    }
   ],
   "source": [
    "n_epochs = 2000\n",
    "print_every = 100\n",
    "plot_every = 10\n",
    "hidden_size = 100\n",
    "n_layers = 1\n",
    "lr = 0.005\n",
    "\n",
    "decoder = RNN(n_characters, hidden_size, n_characters, n_layers)\n",
    "decoder_optimizer = torch.optim.Adam(decoder.parameters(), lr=lr)\n",
    "criterion = nn.CrossEntropyLoss()\n",
    "\n",
    "start = time.time()\n",
    "all_losses = []\n",
    "loss_avg = 0\n",
    "\n",
    "for epoch in range(1, n_epochs + 1):\n",
    "    loss = train(*random_training_set())       \n",
    "    loss_avg += loss\n",
    "\n",
    "    if epoch % print_every == 0:\n",
    "        print('[%s (%d %d%%) %.4f]' % (time_since(start), epoch, epoch / n_epochs * 100, loss))\n",
    "        print(evaluate('Wh', 100), '\\n')\n",
    "\n",
    "    if epoch % plot_every == 0:\n",
    "        all_losses.append(loss_avg / plot_every)\n",
    "        loss_avg = 0"
   ]
  },
  {
   "cell_type": "markdown",
   "metadata": {},
   "source": [
    "## Plotting the Training Losses"
   ]
  },
  {
   "cell_type": "markdown",
   "metadata": {},
   "source": [
    "Plotting the historical loss from all_losses shows the network learning:"
   ]
  },
  {
   "cell_type": "code",
   "execution_count": 40,
   "metadata": {},
   "outputs": [
    {
     "data": {
      "text/plain": [
       "[<matplotlib.lines.Line2D at 0x1130ac668>]"
      ]
     },
     "execution_count": 40,
     "metadata": {},
     "output_type": "execute_result"
    },
    {
     "data": {
      "image/png": "[encoded data removed]",
      "text/plain": [
       "<matplotlib.figure.Figure at 0x111ff1400>"
      ]
     },
     "metadata": {},
     "output_type": "display_data"
    }
   ],
   "source": [
    "import matplotlib.pyplot as plt\n",
    "import matplotlib.ticker as ticker\n",
    "%matplotlib inline\n",
    "\n",
    "plt.figure()\n",
    "plt.plot(all_losses)"
   ]
  },
  {
   "cell_type": "markdown",
   "metadata": {},
   "source": [
    "## Evaluating at different \"temperatures\""
   ]
  },
  {
   "cell_type": "markdown",
   "metadata": {},
   "source": [
    "In the *evaluate* function above, every time a prediction is made the outputs are divided by the \"temperature\" argument passed. Using a higher number makes all actions more equally likely, and thus gives us \"more random\" outputs. Using a lower value (less than 1) makes high probabilities contribute more. As we turn the temperature towards zero we are choosing only the most likely outputs."
   ]
  },
  {
   "cell_type": "markdown",
   "metadata": {},
   "source": [
    "We can see the effects of this by adjusting the temperature argument."
   ]
  },
  {
   "cell_type": "code",
   "execution_count": 41,
   "metadata": {},
   "outputs": [
    {
     "name": "stdout",
     "output_type": "stream",
     "text": [
      "The pyar him Hard wesienst\n",
      "If are her conded; where lore.\n",
      "\n",
      "ROLES:\n",
      "And the daugh to demings, heave with dees hear the mear look\n",
      "That is them lible the feced,--pertumpo weep so.\n",
      "\n",
      "KINCHARD II:\n",
      "There bud do\n"
     ]
    }
   ],
   "source": [
    "print(evaluate('Th', 200, temperature=0.8))"
   ]
  },
  {
   "cell_type": "markdown",
   "metadata": {},
   "source": [
    "Lower temperatures are less varied,  choosing only the more probable outputs:"
   ]
  },
  {
   "cell_type": "code",
   "execution_count": 42,
   "metadata": {},
   "outputs": [
    {
     "name": "stdout",
     "output_type": "stream",
     "text": [
      "The do the bear the do the profears the do the deather the see the contess and the dead the shall the shall be the so the do the bear the day,\n",
      "The shall the death the do the so the do the see the see th\n"
     ]
    }
   ],
   "source": [
    "print(evaluate('Th', 200, temperature=0.2))"
   ]
  },
  {
   "cell_type": "code",
   "execution_count": 46,
   "metadata": {},
   "outputs": [
    {
     "name": "stdout",
     "output_type": "stream",
     "text": [
      "The!\n",
      "Mair, calerd;\n",
      "Dead good is a wrongito;\n",
      "Mell.\n",
      "a, I grouta your daid thhir:--\n",
      "to me night! Ede Ritiou thy hare.\n",
      "\n",
      "TEd Cite is inigh and dugens appral'ad-zeelf slou do wol ling.\n",
      "\n",
      "DUCKPERS:\n",
      "Why, sir.\n",
      "To\n"
     ]
    }
   ],
   "source": [
    "print(evaluate('Th', 200, temperature=1.4))"
   ]
  },
  {
   "cell_type": "markdown",
   "metadata": {},
   "source": [
    "## Next Steps:"
   ]
  },
  {
   "cell_type": "markdown",
   "metadata": {},
   "source": [
    "Increasing the number of layers, as well as maybe using LSTMS should provide better results.\n",
    "\n",
    "This will be part of the next test."
   ]
  },
  {
   "cell_type": "code",
   "execution_count": null,
   "metadata": {},
   "outputs": [],
   "source": []
  }
 ],
 "metadata": {
  "kernelspec": {
   "display_name": "Python [conda root]",
   "language": "python",
   "name": "conda-root-py"
  },
  "language_info": {
   "codemirror_mode": {
    "name": "ipython",
    "version": 3
   },
   "file_extension": ".py",
   "mimetype": "text/x-python",
   "name": "python",
   "nbconvert_exporter": "python",
   "pygments_lexer": "ipython3",
   "version": "3.6.3"
  }
 },
 "nbformat": 4,
 "nbformat_minor": 2
}
